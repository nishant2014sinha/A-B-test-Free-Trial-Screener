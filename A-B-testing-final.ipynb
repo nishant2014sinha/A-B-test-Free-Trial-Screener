{
 "cells": [
  {
   "cell_type": "markdown",
   "metadata": {},
   "source": [
    "# P7: Design and A/B test - Free Trial Screener"
   ]
  },
  {
   "cell_type": "code",
   "execution_count": 24,
   "metadata": {
    "collapsed": false
   },
   "outputs": [],
   "source": [
    "import numpy as np\n",
    "import pandas as pd\n",
    "\n",
    "from __future__ import division"
   ]
  },
  {
   "cell_type": "markdown",
   "metadata": {},
   "source": [
    "# 1. Experiment Design\n",
    "\n",
    "At the time of this experiment, Udacity courses currently have two options on the home page: \"start free trial\", and \"access course materials\". If the student clicks \"start free trial\", they will be asked to enter their credit card information, and then they will be enrolled in a free trial for the paid version of the course. After 14 days, they will automatically be charged unless they cancel first. If the student clicks \"access course materials\", they will be able to view the videos and take the quizzes for free, but they will not receive coaching support or a verified certificate, and they will not submit their final project for feedback.\n",
    "\n",
    "In the experiment, Udacity tested a change where if the student clicked \"start free trial\", they were asked how much time they had available to devote to the course. If the student indicated 5 or more hours per week, they would be taken through the checkout process as usual. If they indicated fewer than 5 hours per week, a message would appear indicating that Udacity courses usually require a greater time commitment for successful completion, and suggesting that the student might like to access the course materials for free. At this point, the student would have the option to continue enrolling in the free trial, or access the course materials for free instead. This [screenshot](https://drive.google.com/file/d/0ByAfiG8HpNUMakVrS0s4cGN2TjQ/view) shows what the experiment looks like.\n",
    "\n",
    "The hypothesis was that this might set clearer expectations for students upfront, thus reducing the number of frustrated students who left the free trial because they didn't have enough time—without significantly reducing the number of students to continue past the free trial and eventually complete the course. If this hypothesis held true, Udacity could improve the overall student experience and improve coaches' capacity to support students who are likely to complete the course.\n",
    "\n",
    "The unit of diversion is a cookie, although if the student enrolls in the free trial, they are tracked by user-id from that point forward. The same user-id cannot enroll in the free trial twice. For users that do not enroll, their user-id is not tracked in the experiment, even if they were signed in when they visited the course overview page."
   ]
  },
  {
   "cell_type": "markdown",
   "metadata": {},
   "source": [
    "## a. Metric Choice"
   ]
  },
  {
   "cell_type": "markdown",
   "metadata": {},
   "source": [
    "**List which metrics you will use as invariant metrics and evaluation metrics here. Here is the list of metrics:**\n",
    "\n",
    "- **Number of cookies:** That is, number of unique cookies to view the course overview page. (dmin=3000)\n",
    "- **Number of user-ids:** That is, number of users who enroll in the free trial. (dmin=50)\n",
    "- **Number of clicks:** That is, number of unique cookies to click the \"Start free trial\" button (which happens before the free trial screener is trigger). (dmin=240)\n",
    "- **Click-through-probability:** That is, number of unique cookies to click the \"Start free trial\" button divided by number of unique cookies to view the course overview page. (dmin=0.01)\n",
    "- **Gross conversion:** That is, number of user-ids to complete checkout and enroll in the free trial divided by number of unique cookies to click the \"Start free trial\" button. (dmin= 0.01)\n",
    "- **Retention:** That is, number of user-ids to remain enrolled past the 14-day boundary (and thus make at least one payment) divided by number of user-ids to complete checkout. (dmin=0.01)\n",
    "- **Net conversion:** That is, number of user-ids to remain enrolled past the 14-day boundary (and thus make at least one payment) divided by the number of unique cookies to click the \"Start free trial\" button. (dmin= 0.0075)"
   ]
  },
  {
   "cell_type": "markdown",
   "metadata": {},
   "source": [
    "### Invariant metrics\n",
    "Invariant metrics are metrics that shouldn't change between the control group and experiment\n",
    "group. As we ask students \"how much time do you have available to devote to the course?\"\n",
    "after they click on the \"Start free trial\" button, the metrics **number of cookies, number of\n",
    "clicks and Click through probability** shouldn't change between the control and experiment\n",
    "groups because they are measured before clicking on \"Start free trial\" button. However the other\n",
    "metrics are measured after the question \"how much time do you have available to devote to the\n",
    "course?\" is shown, so we can expect Number of user ids, Gross conversion, Retention and Net\n",
    "conversion to vary between control and experiment groups.\n",
    "Later during our sanity check we will look only at the invariant metrics **number of cookies and\n",
    "number of clicks and click through probability**.\n",
    "\n",
    "### Evaluation metrics\n",
    "In the experiment we want to analyze if the question \"how much time do you have available to\n",
    "devote to the course?\" has an impact on the number of people who decide to checkout and\n",
    "enroll in the free trial.\n",
    "\n",
    "We can perform the following hypothesis testing on the **gross conversion** metric:\n",
    "The hypothesis would be that the gross conversion for the experiment group is lower than the\n",
    "gross conversion for the control group because the question sets clearer expectations for\n",
    "students upfront in terms of weekly investment, thus reducing the number of student enrolling in\n",
    "the free trial by more than 1%.\n",
    "\n",
    "We also want to use the **net conversion metric** as an evaluation metric to see if the number\n",
    "of students who pass the free trial is not reduced significantly as a result of asking this question.\n",
    "\n",
    "The hypothesis would be that the net conversion metric remains the same between the control\n",
    "and experiment groups because the number of people who pass the free trial is the same\n",
    "between the control and experiment groups. Those who would have left during the free trial\n",
    "don't enroll in the free trial in the first place, because the expectations are set clearly. So for this \n",
    "reason the lower bound of the confidence interval for the difference for the net conversion\n",
    "shouldn’t be lower than 0.0075.\n",
    "\n",
    "We could look at the retention metric; however, it's simply the difference between the net\n",
    "conversion and the gross conversion. For this reason we will only look at the **net conversion\n",
    "and the gross conversion metrics**."
   ]
  },
  {
   "cell_type": "markdown",
   "metadata": {},
   "source": [
    "## b. Measuring Standard Deviation\n",
    "\n",
    "Let's make an analytic estimate of the standard deviation for the gross conversion and net conversion metrics, given a sample size of 5000 cookies visiting the course overview page.\n",
    "\n",
    "We want to measure if the practical significance boundary is realistic with the variability of these metrics. \n",
    "\n",
    "For the metrics gross conversion and net conversion, the unit of analysis (denominator of the metric) and unit of diversion are the same: number of cookies. So we can use the analytical estimate instead of emperical estimate. If we would have used the retention as an evaluation metric, we would have to compute the emperical estimate. When the unit of diversion and unit of analysis are not the same, such as in the case of the retention, the emperical variability tends to be much higher than the analytical variability.\n",
    "\n",
    "To compute the standard deviation of the gross conversion and net conversion metrics, we use the following [table including the baseline values](https://docs.google.com/spreadsheets/d/1MYNUtC47Pg8hdoCjOXaHqF-thheGpUshrFA21BAJnNc/edit#gid=0)."
   ]
  },
  {
   "cell_type": "code",
   "execution_count": 25,
   "metadata": {
    "collapsed": true
   },
   "outputs": [],
   "source": [
    "nb_cookies_view_per_day=40000\n",
    "nb_cookies_click_free_trial=3200\n",
    "Pr_enro_click=0.20625\n",
    "Pr_pay_click=0.1093125\n",
    "\n",
    "#sample size\n",
    "nb_cookies_visit_course=5000"
   ]
  },
  {
   "cell_type": "markdown",
   "metadata": {},
   "source": [
    "To compute the standard deviation for the gross conversion and net retention metrics, we need to adjust the number of unique cookies to click \"Start free trial\" (3200) per day in the table given the sample size of 5000 cookies. Because our metrics are probability (of success), we also make the assumption that our metrics follow a binomial distribtion. "
   ]
  },
  {
   "cell_type": "code",
   "execution_count": 26,
   "metadata": {
    "collapsed": false
   },
   "outputs": [
    {
     "name": "stdout",
     "output_type": "stream",
     "text": [
      "Standard deviation for the gross conversion metric : 0.020230604137\n",
      "Standard deviation for the net conversion metric : 0.0156015445825\n"
     ]
    }
   ],
   "source": [
    "SD_gross_conversion=np.sqrt(Pr_enro_click*(1-Pr_enro_click)/(nb_cookies_click_free_trial*nb_cookies_visit_course/nb_cookies_view_per_day))\n",
    "print \"Standard deviation for the gross conversion metric :\",SD_gross_conversion\n",
    "SD_net_conversion=np.sqrt(Pr_pay_click*(1-Pr_pay_click)/(nb_cookies_click_free_trial*nb_cookies_visit_course/nb_cookies_view_per_day))\n",
    "print \"Standard deviation for the net conversion metric :\", SD_net_conversion"
   ]
  },
  {
   "cell_type": "markdown",
   "metadata": {},
   "source": [
    "## c. Sizing\n",
    "\n",
    "We won't use **[Bonferroni correction](https://en.wikipedia.org/wiki/Bonferroni_correction)** because to launch the experiment, we need to make sure that both metrics, gross conversion and net conversion, match the hypothesis. It’s different than the case where any of the metrics need to be significant in order to launch the experiment. For this case, we would have used the Bonferroni correction.\n",
    "\n",
    "### i. Number of Samples vs. Power\n",
    "**Give the number of pageviews you will need to power your experiment appropriately**\n",
    "\n",
    "To get the number of pageviews we need for the experiment, we will use the [online calculator](http://www.evanmiller.org/ab-testing/sample-size.html)."
   ]
  },
  {
   "cell_type": "markdown",
   "metadata": {},
   "source": [
    "#### Gross conversion\n",
    "\n",
    "For the gross conversion metric, we have to enter the following parameters into the calculator:\n",
    "\n",
    "\n",
    "- Baseline conversion rate=0.20625\n",
    "- Minimum Detectable Effect = 0.01\n",
    "- alpha = 0.05\n",
    "- beta = 0.2\n",
    "\n",
    "The calculator returns a sample_size = 27413. Because we want to have the total number of page views, we need to multiply the sample size returned by the caculator by two and divide it by the Click-through-probability on \"Start free trial\"."
   ]
  },
  {
   "cell_type": "code",
   "execution_count": 27,
   "metadata": {
    "collapsed": false
   },
   "outputs": [
    {
     "name": "stdout",
     "output_type": "stream",
     "text": [
      "Total number of page views : 685325.0\n"
     ]
    }
   ],
   "source": [
    "sample_size=27413\n",
    "print \"Total number of page views :\",2*sample_size/(3200/40000)"
   ]
  },
  {
   "cell_type": "markdown",
   "metadata": {},
   "source": [
    "#### Net conversion\n",
    "\n",
    "Let's do the same calculation for the net conversion metric.\n",
    "\n",
    "Probability of enrolling, given click=0.1093125\n",
    "\n",
    "- Baseline conversion rate=0.1093125\n",
    "- Minimum Detectable Effect = 0.0075\n",
    "- alpha = 0.05\n",
    "- beta = 0.2\n",
    "\n",
    "The calculator returns a sample_size = 25835."
   ]
  },
  {
   "cell_type": "code",
   "execution_count": 28,
   "metadata": {
    "collapsed": false
   },
   "outputs": [
    {
     "name": "stdout",
     "output_type": "stream",
     "text": [
      "Total number of page views: 645875.0\n"
     ]
    }
   ],
   "source": [
    "sample_size=25835\n",
    "print \"Total number of page views:\",2*sample_size/(3200/40000)"
   ]
  },
  {
   "cell_type": "markdown",
   "metadata": {},
   "source": [
    "In order to power the experiment appropriately for these two metrics we take the largest number of page views calculated for each metric. So we need to collect 685,325 pageviews."
   ]
  },
  {
   "cell_type": "markdown",
   "metadata": {},
   "source": [
    "### ii. Duration vs. Exposure"
   ]
  },
  {
   "cell_type": "markdown",
   "metadata": {},
   "source": [
    "We will run the experiment on all traffic. It shouldn’t be a risky test as it’s a small popup on\n",
    "electing the free trial.\n",
    "\n",
    "If we run the experiment on all traffic, it will take **18 days** to collect 685,325 pageviews. 18 days\n",
    "is already a long experiment and the experiment is run on a mix of weekends and weekdays. That\n",
    "confirms that we should run the experiment on all traffic"
   ]
  },
  {
   "cell_type": "code",
   "execution_count": 29,
   "metadata": {
    "collapsed": false
   },
   "outputs": [
    {
     "name": "stdout",
     "output_type": "stream",
     "text": [
      "Number of days: 17.133125\n"
     ]
    }
   ],
   "source": [
    "print \"Number of days:\",685325/nb_cookies_view_per_day/1.0"
   ]
  },
  {
   "cell_type": "markdown",
   "metadata": {},
   "source": [
    "We will run the experiment for 18 days."
   ]
  },
  {
   "cell_type": "markdown",
   "metadata": {},
   "source": [
    "# 2. Experiment Analysis"
   ]
  },
  {
   "cell_type": "code",
   "execution_count": 30,
   "metadata": {
    "collapsed": true
   },
   "outputs": [],
   "source": [
    "control=pd.read_csv(\"Results_control_group.csv\")\n",
    "experiment=pd.read_csv(\"Results_experiment_group.csv\")"
   ]
  },
  {
   "cell_type": "code",
   "execution_count": 31,
   "metadata": {
    "collapsed": false
   },
   "outputs": [
    {
     "data": {
      "text/html": [
       "<div>\n",
       "<table border=\"1\" class=\"dataframe\">\n",
       "  <thead>\n",
       "    <tr style=\"text-align: right;\">\n",
       "      <th></th>\n",
       "      <th>Date</th>\n",
       "      <th>Pageviews</th>\n",
       "      <th>Clicks</th>\n",
       "      <th>Enrollments</th>\n",
       "      <th>Payments</th>\n",
       "    </tr>\n",
       "  </thead>\n",
       "  <tbody>\n",
       "    <tr>\n",
       "      <th>0</th>\n",
       "      <td>Sat, Oct 11</td>\n",
       "      <td>7723</td>\n",
       "      <td>687</td>\n",
       "      <td>134</td>\n",
       "      <td>70</td>\n",
       "    </tr>\n",
       "    <tr>\n",
       "      <th>1</th>\n",
       "      <td>Sun, Oct 12</td>\n",
       "      <td>9102</td>\n",
       "      <td>779</td>\n",
       "      <td>147</td>\n",
       "      <td>70</td>\n",
       "    </tr>\n",
       "    <tr>\n",
       "      <th>2</th>\n",
       "      <td>Mon, Oct 13</td>\n",
       "      <td>10511</td>\n",
       "      <td>909</td>\n",
       "      <td>167</td>\n",
       "      <td>95</td>\n",
       "    </tr>\n",
       "    <tr>\n",
       "      <th>3</th>\n",
       "      <td>Tue, Oct 14</td>\n",
       "      <td>9871</td>\n",
       "      <td>836</td>\n",
       "      <td>156</td>\n",
       "      <td>105</td>\n",
       "    </tr>\n",
       "    <tr>\n",
       "      <th>4</th>\n",
       "      <td>Wed, Oct 15</td>\n",
       "      <td>10014</td>\n",
       "      <td>837</td>\n",
       "      <td>163</td>\n",
       "      <td>64</td>\n",
       "    </tr>\n",
       "  </tbody>\n",
       "</table>\n",
       "</div>"
      ],
      "text/plain": [
       "          Date  Pageviews  Clicks  Enrollments  Payments\n",
       "0  Sat, Oct 11       7723     687          134        70\n",
       "1  Sun, Oct 12       9102     779          147        70\n",
       "2  Mon, Oct 13      10511     909          167        95\n",
       "3  Tue, Oct 14       9871     836          156       105\n",
       "4  Wed, Oct 15      10014     837          163        64"
      ]
     },
     "execution_count": 31,
     "metadata": {},
     "output_type": "execute_result"
    }
   ],
   "source": [
    "control.head()"
   ]
  },
  {
   "cell_type": "code",
   "execution_count": 32,
   "metadata": {
    "collapsed": false
   },
   "outputs": [
    {
     "data": {
      "text/html": [
       "<div>\n",
       "<table border=\"1\" class=\"dataframe\">\n",
       "  <thead>\n",
       "    <tr style=\"text-align: right;\">\n",
       "      <th></th>\n",
       "      <th>Date</th>\n",
       "      <th>Pageviews</th>\n",
       "      <th>Clicks</th>\n",
       "      <th>Enrollments</th>\n",
       "      <th>Payments</th>\n",
       "    </tr>\n",
       "  </thead>\n",
       "  <tbody>\n",
       "    <tr>\n",
       "      <th>0</th>\n",
       "      <td>Sat, Oct 11</td>\n",
       "      <td>7716</td>\n",
       "      <td>686</td>\n",
       "      <td>105</td>\n",
       "      <td>34</td>\n",
       "    </tr>\n",
       "    <tr>\n",
       "      <th>1</th>\n",
       "      <td>Sun, Oct 12</td>\n",
       "      <td>9288</td>\n",
       "      <td>785</td>\n",
       "      <td>116</td>\n",
       "      <td>91</td>\n",
       "    </tr>\n",
       "    <tr>\n",
       "      <th>2</th>\n",
       "      <td>Mon, Oct 13</td>\n",
       "      <td>10480</td>\n",
       "      <td>884</td>\n",
       "      <td>145</td>\n",
       "      <td>79</td>\n",
       "    </tr>\n",
       "    <tr>\n",
       "      <th>3</th>\n",
       "      <td>Tue, Oct 14</td>\n",
       "      <td>9867</td>\n",
       "      <td>827</td>\n",
       "      <td>138</td>\n",
       "      <td>92</td>\n",
       "    </tr>\n",
       "    <tr>\n",
       "      <th>4</th>\n",
       "      <td>Wed, Oct 15</td>\n",
       "      <td>9793</td>\n",
       "      <td>832</td>\n",
       "      <td>140</td>\n",
       "      <td>94</td>\n",
       "    </tr>\n",
       "  </tbody>\n",
       "</table>\n",
       "</div>"
      ],
      "text/plain": [
       "          Date  Pageviews  Clicks  Enrollments  Payments\n",
       "0  Sat, Oct 11       7716     686          105        34\n",
       "1  Sun, Oct 12       9288     785          116        91\n",
       "2  Mon, Oct 13      10480     884          145        79\n",
       "3  Tue, Oct 14       9867     827          138        92\n",
       "4  Wed, Oct 15       9793     832          140        94"
      ]
     },
     "execution_count": 32,
     "metadata": {},
     "output_type": "execute_result"
    }
   ],
   "source": [
    "experiment.head()"
   ]
  },
  {
   "cell_type": "markdown",
   "metadata": {},
   "source": [
    "The meaning of each column is:\n",
    "\n",
    "**Pageviews:** Number of unique cookies to view the course overview page that day.\n",
    "\n",
    "**Clicks:** Number of unique cookies to click the course overview page that day.\n",
    "\n",
    "**Enrollments:** Number of user-ids to enroll in the free trial that day.\n",
    "\n",
    "**Payments:** Number of user-ids who who enrolled on that day to remain enrolled for 14 days and thus make a payment. (Note that the date for this column is the start date, that is, the date of enrollment, rather than the date of the payment. The payment happened 14 days later. Because of this, the enrollments and payments are tracked for 14 fewer days than the other columns.)"
   ]
  },
  {
   "cell_type": "markdown",
   "metadata": {},
   "source": [
    "## a. Sanity Checks\n",
    "\n",
    "For each invariant metric, we want to give the 95% confidence interval for the value we expect to observe, the actual observed value, and whether the metric passes the sanity check."
   ]
  },
  {
   "cell_type": "markdown",
   "metadata": {},
   "source": [
    "#### Number of cookies\n",
    "\n",
    "We will use the following method for the sanity check. Each cookie is randomly assigned to the control group and experiment group with probability 0.5.\n",
    "\n",
    "1. We compute standard deviation of binomial with probability 0.5 to success\n",
    "2. Multiply standard deviation by Z score to get margin of error\n",
    "3. Compute confidence interval around 0.5\n",
    "4. check whether observed fraction is within interval"
   ]
  },
  {
   "cell_type": "code",
   "execution_count": 33,
   "metadata": {
    "collapsed": false
   },
   "outputs": [
    {
     "name": "stdout",
     "output_type": "stream",
     "text": [
      "Number of unique cookies to view page in the control group: 345543\n",
      "Number of unique cookies to view page in the experiment group: 344660\n",
      "There is a difference of: 883\n"
     ]
    }
   ],
   "source": [
    "nb_cookies_page_control=sum(control.Pageviews)\n",
    "print \"Number of unique cookies to view page in the control group:\", nb_cookies_page_control\n",
    "nb_cookies_page_experiment=sum(experiment.Pageviews)\n",
    "print \"Number of unique cookies to view page in the experiment group:\", nb_cookies_page_experiment\n",
    "print \"There is a difference of:\",nb_cookies_page_control-nb_cookies_page_experiment"
   ]
  },
  {
   "cell_type": "code",
   "execution_count": 34,
   "metadata": {
    "collapsed": false
   },
   "outputs": [
    {
     "name": "stdout",
     "output_type": "stream",
     "text": [
      "Standard deviation: 0.000601840740294\n",
      "Margin of error: 0.00117960785098\n",
      "Lower bound of the 95% confidence interval: 0.498820392149\n",
      "Upper bound of the 95% confidence interval: 0.501179607851\n",
      "Oberved fraction: 0.500639666881\n"
     ]
    }
   ],
   "source": [
    "sd=np.sqrt((0.5*0.5)/(nb_cookies_page_control+nb_cookies_page_experiment))\n",
    "print \"Standard deviation:\",sd\n",
    "m=sd*1.96\n",
    "print \"Margin of error:\",m\n",
    "lower_bound=0.5-m\n",
    "print \"Lower bound of the 95% confidence interval:\",lower_bound\n",
    "upper_bound=0.5+m\n",
    "print \"Upper bound of the 95% confidence interval:\",upper_bound\n",
    "p_observed=nb_cookies_page_control/(nb_cookies_page_control+nb_cookies_page_experiment)\n",
    "print \"Oberved fraction:\",p_observed"
   ]
  },
  {
   "cell_type": "markdown",
   "metadata": {
    "collapsed": true
   },
   "source": [
    "The observed fraction is included in the the confidence interval, so the invariant metric, the number of cookies, passes the sanity check."
   ]
  },
  {
   "cell_type": "markdown",
   "metadata": {},
   "source": [
    "#### Number of clicks"
   ]
  },
  {
   "cell_type": "code",
   "execution_count": 35,
   "metadata": {
    "collapsed": false
   },
   "outputs": [
    {
     "name": "stdout",
     "output_type": "stream",
     "text": [
      "Number of unique cookies to click 'start free trial' button in the control group: 28378\n",
      "Number of unique cookies to click 'start free trial' button in the experiment group: 28325\n",
      "There is a difference of: 53\n"
     ]
    }
   ],
   "source": [
    "nb_cookies_clicks_control=sum(control.Clicks)\n",
    "print \"Number of unique cookies to click 'start free trial' button in the control group:\", nb_cookies_clicks_control\n",
    "nb_cookies_clicks_experiment=sum(experiment.Clicks)\n",
    "print \"Number of unique cookies to click 'start free trial' button in the experiment group:\", nb_cookies_clicks_experiment\n",
    "print \"There is a difference of:\",nb_cookies_clicks_control-nb_cookies_clicks_experiment"
   ]
  },
  {
   "cell_type": "code",
   "execution_count": 36,
   "metadata": {
    "collapsed": false
   },
   "outputs": [
    {
     "name": "stdout",
     "output_type": "stream",
     "text": [
      "Standard deviation: 0.0020997470797\n",
      "Margin of error: 0.00411550427621\n",
      "Lower bound of the confidence interval: 0.495884495724\n",
      "Upper bound of the confidence interval: 0.504115504276\n",
      "Observed fraction: 0.500467347407\n"
     ]
    }
   ],
   "source": [
    "sd=np.sqrt((0.5*0.5)/(nb_cookies_clicks_control+nb_cookies_clicks_experiment))\n",
    "print \"Standard deviation:\",sd\n",
    "m=sd*1.96\n",
    "print \"Margin of error:\",m\n",
    "lower_bound=0.5-m\n",
    "print \"Lower bound of the confidence interval:\",lower_bound\n",
    "upper_bound=0.5+m\n",
    "print \"Upper bound of the confidence interval:\",upper_bound\n",
    "p_observed=nb_cookies_clicks_control/(nb_cookies_clicks_control+nb_cookies_clicks_experiment)\n",
    "print \"Observed fraction:\",p_observed"
   ]
  },
  {
   "cell_type": "markdown",
   "metadata": {},
   "source": [
    "The observed fraction is included in the confidence interval, so the invariant metric, the number of clicks, passes the sanity check."
   ]
  },
  {
   "cell_type": "markdown",
   "metadata": {},
   "source": [
    "#### Click through probability"
   ]
  },
  {
   "cell_type": "code",
   "execution_count": 38,
   "metadata": {
    "collapsed": false
   },
   "outputs": [
    {
     "name": "stdout",
     "output_type": "stream",
     "text": [
      "Standard Deviation: 0.000467068276555\n",
      "Lower bound: 0.0812103597525\n",
      "Upper bound: 0.0830412673966\n",
      "0.0821824406662\n"
     ]
    }
   ],
   "source": [
    "p=nb_cookies_clicks_control/(nb_cookies_page_control)\n",
    "\n",
    "sd=np.sqrt((p*(1-p))/(nb_cookies_page_control))\n",
    "print \"Standard Deviation:\",sd\n",
    "m=sd*1.96\n",
    "lower_bound=p-m\n",
    "upper_bound=p+m\n",
    "print \"Lower bound:\",lower_bound\n",
    "print \"Upper bound:\",upper_bound\n",
    "\n",
    "p_experiment=nb_cookies_clicks_experiment/(nb_cookies_page_experiment)\n",
    "print p_experiment"
   ]
  },
  {
   "cell_type": "markdown",
   "metadata": {},
   "source": [
    "The observed fraction is included in the confidence interval, so the invariant metric, the number of clicks, passes the sanity check."
   ]
  },
  {
   "cell_type": "markdown",
   "metadata": {},
   "source": [
    "## b. Result Analysis"
   ]
  },
  {
   "cell_type": "markdown",
   "metadata": {},
   "source": [
    "### i. Effect Size Tests"
   ]
  },
  {
   "cell_type": "markdown",
   "metadata": {},
   "source": [
    "We only keep the days of the experiment that include the number of enrollments and payments. The free trial lasts 14 days, that's why we don't yet have the number of enrollments and payments after November 2nd."
   ]
  },
  {
   "cell_type": "code",
   "execution_count": 39,
   "metadata": {
    "collapsed": true
   },
   "outputs": [],
   "source": [
    "control_sub=control[control.Enrollments.notnull()==True]\n",
    "experiment_sub=experiment[experiment.Enrollments.notnull()==True]"
   ]
  },
  {
   "cell_type": "markdown",
   "metadata": {},
   "source": [
    "#### Gross conversion"
   ]
  },
  {
   "cell_type": "code",
   "execution_count": 40,
   "metadata": {
    "collapsed": false
   },
   "outputs": [
    {
     "name": "stdout",
     "output_type": "stream",
     "text": [
      "Gross conversion observed for control group: 0.218874689181\n",
      "Gross conversion observed for experiment group: 0.1983198146\n",
      "Pool probability: 0.208607067404\n",
      "Pool standard error: 0.00437167538523\n",
      "Margin of error: 0.00856848375504\n",
      "Difference observed between control and experiment group -0.0205548745804\n",
      "Lower bound of the 95% of the confidence intervall: -0.0291233583354\n",
      "Upper bound of the 95% of the confidence intervall: -0.0119863908253\n"
     ]
    }
   ],
   "source": [
    "N_cont=sum(control_sub.Clicks)\n",
    "X_cont=sum(control_sub.Enrollments)\n",
    "\n",
    "N_exp=sum(experiment_sub.Clicks)\n",
    "X_exp=sum(experiment_sub.Enrollments)\n",
    "\n",
    "print \"Gross conversion observed for control group:\",X_cont/N_cont\n",
    "print \"Gross conversion observed for experiment group:\",X_exp/N_exp\n",
    "\n",
    "p_pool=(X_cont+X_exp)/(N_cont+N_exp)\n",
    "print \"Pool probability:\",p_pool\n",
    "\n",
    "SE_pool=np.sqrt(p_pool*(1-p_pool)*(1/N_cont+1/N_exp))\n",
    "print \"Pool standard error:\",SE_pool\n",
    "\n",
    "m=1.96*SE_pool\n",
    "print \"Margin of error:\",m\n",
    "\n",
    "d_observed=X_exp/N_exp-X_cont/N_cont\n",
    "print \"Difference observed between control and experiment group\",d_observed\n",
    "\n",
    "lower_bound=d_observed-m\n",
    "print \"Lower bound of the 95% of the confidence intervall:\",lower_bound\n",
    "upper_bound=d_observed+m\n",
    "print \"Upper bound of the 95% of the confidence intervall:\", upper_bound"
   ]
  },
  {
   "cell_type": "markdown",
   "metadata": {},
   "source": [
    "For the gross conversion metric, the confidence interval doesn’t include 0, so the test is statistically significant. The confidence interval [0.02912,0.01198] is inferior to the practical boundary (­0.01), so the test is practically significant."
   ]
  },
  {
   "cell_type": "markdown",
   "metadata": {},
   "source": [
    "#### Net conversion"
   ]
  },
  {
   "cell_type": "code",
   "execution_count": 41,
   "metadata": {
    "collapsed": false
   },
   "outputs": [
    {
     "name": "stdout",
     "output_type": "stream",
     "text": [
      "Net conversion observed for control group: 0.117562019314\n",
      "Net conversion observed for experiment group: 0.11268829664\n",
      "Pool probability: 0.115127485312\n",
      "Pool standard error: 0.00343413351293\n",
      "Margin of error: 0.00673090168535\n",
      "Difference observed between control and experiment group -0.00487372267454\n",
      "Lower bound of the 95% of the confidence intervall: -0.0116046243599\n",
      "Upper bound of the 95% of the confidence intervall: 0.0018571790108\n"
     ]
    }
   ],
   "source": [
    "N_cont=sum(control_sub.Clicks)\n",
    "X_cont=sum(control_sub.Payments)\n",
    "\n",
    "N_exp=sum(experiment_sub.Clicks)\n",
    "X_exp=sum(experiment_sub.Payments)\n",
    "\n",
    "print \"Net conversion observed for control group:\",X_cont/N_cont\n",
    "print \"Net conversion observed for experiment group:\",X_exp/N_exp\n",
    "\n",
    "p_pool=(X_cont+X_exp)/(N_cont+N_exp)\n",
    "print \"Pool probability:\",p_pool\n",
    "\n",
    "SE_pool=np.sqrt(p_pool*(1-p_pool)*(1/N_cont+1/N_exp))\n",
    "print \"Pool standard error:\",SE_pool\n",
    "\n",
    "m=1.96*SE_pool\n",
    "print \"Margin of error:\",m\n",
    "\n",
    "d_observed=X_exp/N_exp-X_cont/N_cont\n",
    "print \"Difference observed between control and experiment group\",d_observed\n",
    "\n",
    "lower_bound=d_observed-m\n",
    "print \"Lower bound of the 95% of the confidence intervall:\",lower_bound\n",
    "upper_bound=d_observed+m\n",
    "print \"Upper bound of the 95% of the confidence intervall:\", upper_bound"
   ]
  },
  {
   "cell_type": "markdown",
   "metadata": {},
   "source": [
    "For the net conversion metric, the confidence interval [­0.0116 , 0.00186] includes 0 so the test is not statistically significant. It also includes the practical boundary (­0.0075), so the test is not practically significant."
   ]
  },
  {
   "cell_type": "markdown",
   "metadata": {},
   "source": [
    "### ii. Sign Tests"
   ]
  },
  {
   "cell_type": "markdown",
   "metadata": {},
   "source": [
    "### Gross conversion"
   ]
  },
  {
   "cell_type": "markdown",
   "metadata": {},
   "source": [
    "We create a pandas DataFrame with the gross conversion for the control and experiment groups. We also create a flag 'sign test' that indicates if the gross converion for the experiment group is higher than the gross conversion for the control group."
   ]
  },
  {
   "cell_type": "code",
   "execution_count": 42,
   "metadata": {
    "collapsed": false
   },
   "outputs": [],
   "source": [
    "gross_conversion_control=control_sub.Enrollments/control_sub.Clicks\n",
    "gross_conversion_experiment=experiment_sub.Enrollments/experiment_sub.Clicks\n",
    "\n",
    "sign_test_gross_conversion=pd.concat([gross_conversion_control,gross_conversion_experiment],axis=1)\n",
    "sign_test_gross_conversion.head()\n",
    "sign_test_gross_conversion.columns=['gross_conversion_control','gross_conversion_experiment']\n",
    "sign_test_gross_conversion['sign_test']=sign_test_gross_conversion.gross_conversion_control<sign_test_gross_conversion.gross_conversion_experiment"
   ]
  },
  {
   "cell_type": "code",
   "execution_count": 43,
   "metadata": {
    "collapsed": false
   },
   "outputs": [
    {
     "data": {
      "text/html": [
       "<div>\n",
       "<table border=\"1\" class=\"dataframe\">\n",
       "  <thead>\n",
       "    <tr style=\"text-align: right;\">\n",
       "      <th></th>\n",
       "      <th>gross_conversion_control</th>\n",
       "      <th>gross_conversion_experiment</th>\n",
       "      <th>sign_test</th>\n",
       "    </tr>\n",
       "  </thead>\n",
       "  <tbody>\n",
       "    <tr>\n",
       "      <th>0</th>\n",
       "      <td>0.195051</td>\n",
       "      <td>0.153061</td>\n",
       "      <td>False</td>\n",
       "    </tr>\n",
       "    <tr>\n",
       "      <th>1</th>\n",
       "      <td>0.188703</td>\n",
       "      <td>0.147771</td>\n",
       "      <td>False</td>\n",
       "    </tr>\n",
       "    <tr>\n",
       "      <th>2</th>\n",
       "      <td>0.183718</td>\n",
       "      <td>0.164027</td>\n",
       "      <td>False</td>\n",
       "    </tr>\n",
       "    <tr>\n",
       "      <th>3</th>\n",
       "      <td>0.186603</td>\n",
       "      <td>0.166868</td>\n",
       "      <td>False</td>\n",
       "    </tr>\n",
       "    <tr>\n",
       "      <th>4</th>\n",
       "      <td>0.194743</td>\n",
       "      <td>0.168269</td>\n",
       "      <td>False</td>\n",
       "    </tr>\n",
       "  </tbody>\n",
       "</table>\n",
       "</div>"
      ],
      "text/plain": [
       "   gross_conversion_control  gross_conversion_experiment sign_test\n",
       "0                  0.195051                     0.153061     False\n",
       "1                  0.188703                     0.147771     False\n",
       "2                  0.183718                     0.164027     False\n",
       "3                  0.186603                     0.166868     False\n",
       "4                  0.194743                     0.168269     False"
      ]
     },
     "execution_count": 43,
     "metadata": {},
     "output_type": "execute_result"
    }
   ],
   "source": [
    "sign_test_gross_conversion.head()"
   ]
  },
  {
   "cell_type": "code",
   "execution_count": 44,
   "metadata": {
    "collapsed": false
   },
   "outputs": [
    {
     "name": "stdout",
     "output_type": "stream",
     "text": [
      "Number of days 23\n",
      "Number of days the gross conversion rate is higher for the experiment group than the control group: 4\n"
     ]
    }
   ],
   "source": [
    "nb_days=len(sign_test_gross_conversion)\n",
    "print \"Number of days\", nb_days\n",
    "nb_days_positive_sign=sum(sign_test_gross_conversion.sign_test==True)\n",
    "print \"Number of days the gross conversion rate is higher for the experiment \\\n",
    "group than the control group:\",nb_days_positive_sign"
   ]
  },
  {
   "cell_type": "markdown",
   "metadata": {},
   "source": [
    "What's the chance that this happening randomly? If there is no difference between the control group and the experiment group, there is a 50% chance of positive change on each day.\n",
    "\n",
    "We can use this online [calculator](http://graphpad.com/quickcalcs/binomial1.cfm).\n",
    "\n",
    "In the online calculator we enter:\n",
    "\n",
    "Number of \"successes\" you observed = 4\n",
    "\n",
    "Number of trials or experiments = 23\n",
    "\n",
    "Probability = 0.5\n",
    "\n",
    "The two-tail P-value returned by the calculator is equal to 0.0026, so the statiscal test is significant. It means that these results are unlikely to happen by chance. The sign test agrees with the effect size test."
   ]
  },
  {
   "cell_type": "markdown",
   "metadata": {},
   "source": [
    "#### Net conversion\n",
    "\n",
    "We use the same method as for the gross conversion rate.\n",
    "\n",
    "We create a pandas DataFrame with the net conversion for the control and experiment groups. We also create a flag 'sign test' that indicates if the net converion for the experiment group is higher than the net conversion for the control group."
   ]
  },
  {
   "cell_type": "code",
   "execution_count": 45,
   "metadata": {
    "collapsed": false
   },
   "outputs": [],
   "source": [
    "net_conversion_control=control_sub.Payments/control_sub.Clicks\n",
    "net_conversion_experiment=experiment_sub.Payments/experiment_sub.Clicks\n",
    "\n",
    "sign_test_net_conversion=pd.concat([net_conversion_control,net_conversion_experiment],axis=1)\n",
    "sign_test_net_conversion.columns=['net_conversion_control','net_conversion_experiment']\n",
    "sign_test_net_conversion['sign_test']=sign_test_net_conversion.net_conversion_control<sign_test_net_conversion.net_conversion_experiment"
   ]
  },
  {
   "cell_type": "code",
   "execution_count": 46,
   "metadata": {
    "collapsed": false
   },
   "outputs": [
    {
     "name": "stdout",
     "output_type": "stream",
     "text": [
      "Number of days 23\n",
      "Number of days the gross conversion rate is higher for the experiment group than the control group: 10\n"
     ]
    }
   ],
   "source": [
    "nb_days=len(sign_test_net_conversion)\n",
    "print \"Number of days\", nb_days\n",
    "nb_days_positive_sign=sum(sign_test_net_conversion.sign_test==True)\n",
    "print \"Number of days the gross conversion rate is higher for the experiment \\\n",
    "group than the control group:\",nb_days_positive_sign"
   ]
  },
  {
   "cell_type": "markdown",
   "metadata": {},
   "source": [
    "In the online calculator we enter:\n",
    "\n",
    "Number of \"successes\" you observed =10\n",
    "\n",
    "Number of trials or experiments =23\n",
    "\n",
    "Probability = 0.5\n",
    "\n",
    "The two-tail P-value returned by the calculator is equal to 0.6776, so the statiscal test is not significant. It means that these results are likely to happen by chance. The sign test agrees with the effect size test."
   ]
  },
  {
   "cell_type": "markdown",
   "metadata": {},
   "source": [
    "### iii. Summary\n",
    "\n",
    "We can conclude that we have been able to decrease the gross conversion by setting clearer expectations for students upfront. However for the net conversion, the confidence interval [0.0116 , 0.00186] does include the negative of the practical significance boundary (0.0075). So there is a risk that the net conversion metric decreases by an amount that would matter for the business and negatively impact revenue. For this reason, we shouldn’t launch this experiment."
   ]
  },
  {
   "cell_type": "markdown",
   "metadata": {},
   "source": [
    "# 3. Follow-Up Experiment"
   ]
  },
  {
   "cell_type": "markdown",
   "metadata": {
    "collapsed": true
   },
   "source": [
    "In this experiment, we will test whether or not an email showcasing a pertinent forum discussion from the course they are taking can improve their retention. The hypothesis would be that students who are struggling would find useful information that would help them better understand concepts and ideas in the course, or additional explanations on exercises. This should reduce their frustration and increase their motivation.\n",
    "\n",
    "Our evaluation metrics would be the retention: number of userids to remain enrolled past the\n",
    "14 day boundary (and thus make at least one payment) divided by number of user ids to\n",
    "complete checkout. To have a practical significant result we would need to have a positive\n",
    "practical boundary of 0.01.\n",
    "\n",
    "Our unit of diversion would be userid because we only care about students who already\n",
    "enrolled in the free trial."
   ]
  },
  {
   "cell_type": "markdown",
   "metadata": {},
   "source": [
    "### Ressources\n",
    "- Design and A/B test Udacity's course "
   ]
  }
 ],
 "metadata": {
  "kernelspec": {
   "display_name": "Python 2",
   "language": "python",
   "name": "python2"
  },
  "language_info": {
   "codemirror_mode": {
    "name": "ipython",
    "version": 2
   },
   "file_extension": ".py",
   "mimetype": "text/x-python",
   "name": "python",
   "nbconvert_exporter": "python",
   "pygments_lexer": "ipython2",
   "version": "2.7.11"
  }
 },
 "nbformat": 4,
 "nbformat_minor": 0
}
